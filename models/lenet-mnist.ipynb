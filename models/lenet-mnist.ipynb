{
 "cells": [
  {
   "cell_type": "code",
   "execution_count": 1,
   "source": [
    "import torch.nn as nn\r\n",
    "import torch.nn.functional as F\r\n",
    "import numpy as np\r\n",
    "from torch.optim import Adam\r\n",
    "from torchvision import datasets, transforms\r\n",
    "import matplotlib.pyplot as plt"
   ],
   "outputs": [],
   "metadata": {}
  },
  {
   "cell_type": "code",
   "execution_count": 2,
   "source": [
    "import torch\r\n",
    "device = torch.device(\"cuda:0\")"
   ],
   "outputs": [],
   "metadata": {}
  },
  {
   "cell_type": "code",
   "execution_count": 3,
   "source": [
    "transform = transforms.Compose([\r\n",
    "    transforms.Resize((28, 28)),\r\n",
    "    transforms.ToTensor(),\r\n",
    "    transforms.Normalize((0.5,), (0.5,))\r\n",
    "])\r\n"
   ],
   "outputs": [],
   "metadata": {}
  },
  {
   "cell_type": "code",
   "execution_count": 4,
   "source": [
    "training_dataset = datasets.MNIST(root='./data',\r\n",
    "                                  train=True,\r\n",
    "                                  download=True,\r\n",
    "                                  transform=transform)\r\n",
    "validation_dataset = datasets.MNIST(root='./data',\r\n",
    "                                    train=False,\r\n",
    "                                    download=True,\r\n",
    "                                    transform=transform)\r\n"
   ],
   "outputs": [
    {
     "output_type": "stream",
     "name": "stderr",
     "text": [
      "C:\\Users\\sktsa\\miniconda3\\envs\\pytorch\\lib\\site-packages\\torchvision\\datasets\\mnist.py:498: UserWarning: The given NumPy array is not writeable, and PyTorch does not support non-writeable tensors. This means you can write to the underlying (supposedly non-writeable) NumPy array using the tensor. You may want to copy the array to protect its data or make it writeable before converting it to a tensor. This type of warning will be suppressed for the rest of this program. (Triggered internally at  ..\\torch\\csrc\\utils\\tensor_numpy.cpp:180.)\n",
      "  return torch.from_numpy(parsed.astype(m[2], copy=False)).view(*s)\n"
     ]
    }
   ],
   "metadata": {}
  },
  {
   "cell_type": "code",
   "execution_count": 5,
   "source": [
    "training_loader = torch.utils.data.DataLoader(training_dataset, batch_size=100, shuffle=True)\r\n",
    "validation_loader = torch.utils.data.DataLoader(validation_dataset, batch_size=100, shuffle=False)"
   ],
   "outputs": [],
   "metadata": {}
  },
  {
   "cell_type": "code",
   "execution_count": 6,
   "source": [
    "def im_convert(tensor):\r\n",
    "    image = tensor.cpu().clone().detach().numpy()\r\n",
    "    image = image.transpose(1, 2, 0)\r\n",
    "    image = image * np.array((0.5, 0.5, 0.5)) + np.array((0.5, 0.5, 0.5))\r\n",
    "    image = image.clip(0,1)\r\n",
    "    return image"
   ],
   "outputs": [],
   "metadata": {}
  },
  {
   "cell_type": "code",
   "execution_count": 7,
   "source": [
    "dataitr = iter(training_loader)\r\n",
    "images, labels = dataitr.next()\r\n",
    "fig = plt.figure(figsize=(25,4))\r\n",
    "\r\n",
    "for idx in np.arange(20):\r\n",
    "    ax = fig.add_subplot(2, 10, idx+1, xticks=[], yticks=[])\r\n",
    "    plt.imshow(im_convert(images[idx]));\r\n",
    "    ax.set_title([labels[idx].item()])"
   ],
   "outputs": [
    {
     "output_type": "display_data",
     "data": {
      "image/png": "[encoded data removed]",
      "text/plain": [
       "<Figure size 1800x288 with 20 Axes>"
      ]
     },
     "metadata": {}
    }
   ],
   "metadata": {}
  },
  {
   "cell_type": "code",
   "execution_count": 8,
   "source": [
    "class LeNet(nn.Module):\r\n",
    "    def __init__(self):\r\n",
    "        super().__init__()\r\n",
    "        self.conv1 = nn.Conv2d(1, 20, 5, 1)\r\n",
    "        self.conv2 = nn.Conv2d(20, 50, 5, 1)\r\n",
    "        self.fc1 = nn.Linear(4*4*50, 500)\r\n",
    "        self.fc2 = nn.Linear(500, 10)\r\n",
    "\r\n",
    "    def forward(self, x):\r\n",
    "        x = F.relu(self.conv1(x))\r\n",
    "        x = F.max_pool2d(x, 2, 2)\r\n",
    "        x = F.relu(self.conv2(x))\r\n",
    "        x = F.max_pool2d(x, 2, 2)\r\n",
    "        x = x.view(-1, 4*4*50)\r\n",
    "        x = F.relu(self.fc1(x))\r\n",
    "        x = self.fc2(x)\r\n",
    "        return x"
   ],
   "outputs": [],
   "metadata": {}
  },
  {
   "cell_type": "code",
   "execution_count": 9,
   "source": [
    "model = LeNet().to(device)\r\n",
    "model"
   ],
   "outputs": [
    {
     "output_type": "execute_result",
     "data": {
      "text/plain": [
       "LeNet(\n",
       "  (conv1): Conv2d(1, 20, kernel_size=(5, 5), stride=(1, 1))\n",
       "  (conv2): Conv2d(20, 50, kernel_size=(5, 5), stride=(1, 1))\n",
       "  (fc1): Linear(in_features=800, out_features=500, bias=True)\n",
       "  (fc2): Linear(in_features=500, out_features=10, bias=True)\n",
       ")"
      ]
     },
     "metadata": {},
     "execution_count": 9
    }
   ],
   "metadata": {}
  },
  {
   "cell_type": "code",
   "execution_count": 10,
   "source": [
    "criterion = nn.CrossEntropyLoss()\r\n",
    "optimizer = Adam(model.parameters(), lr=0.0001) "
   ],
   "outputs": [],
   "metadata": {}
  },
  {
   "cell_type": "code",
   "execution_count": 11,
   "source": [
    "epochs = 15\r\n",
    "running_loss_history = []\r\n",
    "running_corrects_history = []\r\n",
    "val_running_loss_history = []\r\n",
    "val_running_corrects_history = []\r\n",
    "\r\n",
    "for e in range(epochs):\r\n",
    "  \r\n",
    "  running_loss = 0.0\r\n",
    "  running_corrects = 0.0\r\n",
    "  val_running_loss = 0.0\r\n",
    "  val_running_corrects = 0.0\r\n",
    "  \r\n",
    "  for inputs, labels in training_loader:\r\n",
    "    inputs = inputs.to(device)\r\n",
    "    labels = labels.to(device)\r\n",
    "    outputs = model(inputs)\r\n",
    "    loss = criterion(outputs, labels)\r\n",
    "    \r\n",
    "    optimizer.zero_grad()\r\n",
    "    loss.backward()\r\n",
    "    optimizer.step()\r\n",
    "    \r\n",
    "    _, preds = torch.max(outputs, 1)\r\n",
    "    running_loss += loss.item()\r\n",
    "    running_corrects += torch.sum(preds == labels.data)\r\n",
    "\r\n",
    "  else:\r\n",
    "    with torch.no_grad():\r\n",
    "      for val_inputs, val_labels in validation_loader:\r\n",
    "        val_inputs = val_inputs.to(device)\r\n",
    "        val_labels = val_labels.to(device)\r\n",
    "        val_outputs = model(val_inputs)\r\n",
    "        val_loss = criterion(val_outputs, val_labels)\r\n",
    "        \r\n",
    "        _, val_preds = torch.max(val_outputs, 1)\r\n",
    "        val_running_loss += val_loss.item()\r\n",
    "        val_running_corrects += torch.sum(val_preds == val_labels.data)\r\n",
    "      \r\n",
    "    epoch_loss = running_loss/len(training_loader)\r\n",
    "    epoch_acc = running_corrects.float()/ len(training_loader)\r\n",
    "    running_loss_history.append(epoch_loss)\r\n",
    "    running_corrects_history.append(epoch_acc)\r\n",
    "    \r\n",
    "    val_epoch_loss = val_running_loss/len(validation_loader)\r\n",
    "    val_epoch_acc = val_running_corrects.float()/ len(validation_loader)\r\n",
    "    val_running_loss_history.append(val_epoch_loss)\r\n",
    "    val_running_corrects_history.append(val_epoch_acc)\r\n",
    "    print('epoch :', (e+1))\r\n",
    "    print('training loss: {:.4f}, acc {:.4f} '.format(epoch_loss, epoch_acc.item()))\r\n",
    "    print('validation loss: {:.4f}, validation acc {:.4f} '.format(val_epoch_loss, val_epoch_acc.item()))"
   ],
   "outputs": [
    {
     "output_type": "stream",
     "name": "stderr",
     "text": [
      "C:\\Users\\sktsa\\miniconda3\\envs\\pytorch\\lib\\site-packages\\torch\\nn\\functional.py:718: UserWarning: Named tensors and all their associated APIs are an experimental feature and subject to change. Please do not use them for anything important until they are released as stable. (Triggered internally at  ..\\c10/core/TensorImpl.h:1156.)\n",
      "  return torch.max_pool2d(input, kernel_size, stride, padding, dilation, ceil_mode)\n"
     ]
    },
    {
     "output_type": "stream",
     "name": "stdout",
     "text": [
      "epoch : 1\n",
      "training loss: 0.4770, acc 88.3533 \n",
      "validation loss: 0.1261, validation acc 96.6000 \n",
      "epoch : 2\n",
      "training loss: 0.1123, acc 96.7417 \n",
      "validation loss: 0.0785, validation acc 97.6100 \n",
      "epoch : 3\n",
      "training loss: 0.0780, acc 97.7217 \n",
      "validation loss: 0.0567, validation acc 98.2300 \n",
      "epoch : 4\n",
      "training loss: 0.0620, acc 98.1100 \n",
      "validation loss: 0.0475, validation acc 98.5000 \n",
      "epoch : 5\n",
      "training loss: 0.0515, acc 98.4800 \n",
      "validation loss: 0.0447, validation acc 98.5900 \n",
      "epoch : 6\n",
      "training loss: 0.0450, acc 98.6300 \n",
      "validation loss: 0.0413, validation acc 98.5800 \n",
      "epoch : 7\n",
      "training loss: 0.0398, acc 98.7667 \n",
      "validation loss: 0.0377, validation acc 98.7800 \n",
      "epoch : 8\n",
      "training loss: 0.0349, acc 98.9100 \n",
      "validation loss: 0.0319, validation acc 98.9500 \n",
      "epoch : 9\n",
      "training loss: 0.0311, acc 99.0500 \n",
      "validation loss: 0.0361, validation acc 98.7600 \n",
      "epoch : 10\n",
      "training loss: 0.0279, acc 99.1733 \n",
      "validation loss: 0.0341, validation acc 98.8900 \n",
      "epoch : 11\n",
      "training loss: 0.0250, acc 99.2500 \n",
      "validation loss: 0.0312, validation acc 99.0000 \n",
      "epoch : 12\n",
      "training loss: 0.0222, acc 99.3300 \n",
      "validation loss: 0.0284, validation acc 99.1200 \n",
      "epoch : 13\n",
      "training loss: 0.0201, acc 99.4000 \n",
      "validation loss: 0.0289, validation acc 99.0600 \n",
      "epoch : 14\n",
      "training loss: 0.0178, acc 99.4917 \n",
      "validation loss: 0.0280, validation acc 99.0900 \n",
      "epoch : 15\n",
      "training loss: 0.0165, acc 99.5150 \n",
      "validation loss: 0.0264, validation acc 99.1000 \n"
     ]
    }
   ],
   "metadata": {}
  },
  {
   "cell_type": "code",
   "execution_count": 12,
   "source": [
    "plt.plot(running_loss_history, label='training loss')\r\n",
    "plt.plot(val_running_loss_history, label='validation loss')\r\n",
    "plt.legend()"
   ],
   "outputs": [
    {
     "output_type": "execute_result",
     "data": {
      "text/plain": [
       "<matplotlib.legend.Legend at 0x17fa0863bb0>"
      ]
     },
     "metadata": {},
     "execution_count": 12
    },
    {
     "output_type": "display_data",
     "data": {
      "image/png": "[encoded data removed]",
      "text/plain": [
       "<Figure size 432x288 with 1 Axes>"
      ]
     },
     "metadata": {
      "needs_background": "light"
     }
    }
   ],
   "metadata": {}
  }
 ],
 "metadata": {
  "orig_nbformat": 4,
  "language_info": {
   "name": "python",
   "version": "3.9.7",
   "mimetype": "text/x-python",
   "codemirror_mode": {
    "name": "ipython",
    "version": 3
   },
   "pygments_lexer": "ipython3",
   "nbconvert_exporter": "python",
   "file_extension": ".py"
  },
  "kernelspec": {
   "name": "python3",
   "display_name": "Python 3.9.7 64-bit ('pytorch': conda)"
  },
  "interpreter": {
   "hash": "69b69cf0de0267c817d10f6770f901bf6105b8c2efa7df418fffc3951db68f66"
  }
 },
 "nbformat": 4,
 "nbformat_minor": 2
}